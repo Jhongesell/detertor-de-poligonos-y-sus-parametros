{
 "cells": [
  {
   "cell_type": "code",
   "execution_count": 1,
   "id": "identical-primary",
   "metadata": {},
   "outputs": [
    {
     "name": "stdout",
     "output_type": "stream",
     "text": [
      " El volumen de la unidad C es TI10664900J\n",
      " El n£mero de serie del volumen es: 627E-0588\n",
      "\n",
      " Directorio de C:\\Users\\PEDRO JUAN\\Documents\\gitworkspace\\detertor-de-poligonos-y-sus-parametros\n",
      "\n",
      "16/05/2021  20:56    <DIR>          .\n",
      "16/05/2021  20:56    <DIR>          ..\n",
      "09/05/2021  10:20    <DIR>          .ipynb_checkpoints\n",
      "09/05/2021  12:32    <DIR>          .vs\n",
      "09/05/2021  21:31    <DIR>          models\n",
      "09/05/2021  10:20                28 README.md\n",
      "16/05/2021  20:54             5,688 setup_n01_v01.ipynb\n",
      "16/05/2021  20:55             3,528 setup_n02_v01.ipynb\n",
      "16/05/2021  20:56            12,638 setup_n02_v02.ipynb\n",
      "09/05/2021  10:20            11,075 setup_n02_v03.ipynb\n",
      "09/05/2021  10:20    <DIR>          src\n",
      "               5 archivos         32,957 bytes\n",
      "               6 dirs  337,901,596,672 bytes libres\n"
     ]
    }
   ],
   "source": [
    "ls"
   ]
  },
  {
   "cell_type": "code",
   "execution_count": 2,
   "id": "tracked-tablet",
   "metadata": {},
   "outputs": [],
   "source": [
    "import numpy as np\n",
    "import cv2\n",
    "import os\n",
    "#import matplotlib"
   ]
  },
  {
   "cell_type": "code",
   "execution_count": 3,
   "id": "partial-darkness",
   "metadata": {},
   "outputs": [
    {
     "name": "stdout",
     "output_type": "stream",
     "text": [
      "LA ruta actual es: C:\\Users\\PEDRO JUAN\\Documents\\gitworkspace\\detertor-de-poligonos-y-sus-parametros\n"
     ]
    }
   ],
   "source": [
    "#Ruta actual de trabajo\n",
    "print(\"LA ruta actual es: \" + str(os.getcwd()))"
   ]
  },
  {
   "cell_type": "code",
   "execution_count": 4,
   "id": "specific-princeton",
   "metadata": {},
   "outputs": [
    {
     "name": "stdout",
     "output_type": "stream",
     "text": [
      "La versión de OpenCV que estoy usando es 4.5.2\n",
      "aspect_ratio=  1.3225806451612903\n",
      "aspect_ratio=  1.4421052631578948\n"
     ]
    }
   ],
   "source": [
    "#import cv2\n",
    "print(\"La versión de OpenCV que estoy usando es \"+str(cv2.__version__))\n",
    "image = cv2.imread('src/figure01.jpg')\n",
    "gray = cv2.cvtColor(image, cv2.COLOR_BGR2GRAY)\n",
    "canny = cv2.Canny(gray, 10, 150)\n",
    "canny = cv2.dilate(canny, None, iterations=1)\n",
    "canny = cv2.erode(canny, None, iterations=1)\n",
    "#_, th = cv2.threshold(gray, 10, 255, cv2.THRESH_BINARY)\n",
    "#_,cnts,_ = cv2.findContours(canny, cv2.RETR_EXTERNAL, cv2.CHAIN_APPROX_SIMPLE)# OpenCV 3\n",
    "cnts,_ = cv2.findContours(canny, cv2.RETR_EXTERNAL, cv2.CHAIN_APPROX_SIMPLE)# OpenCV 4\n",
    "#cv2.drawContours(image, cnts, -1, (0,255,0), 2)\n",
    "\n",
    "for c in cnts:\n",
    "    epsilon = 0.01*cv2.arcLength(c,True)\n",
    "    perimetro=cv2.arcLength(c,True)\n",
    "    area=cv2.contourArea(c)\n",
    "    approx = cv2.approxPolyDP(c,epsilon,True)\n",
    "    #print(len(approx))\n",
    "    x,y,w,h = cv2.boundingRect(approx)\n",
    "\n",
    "    if len(approx)==3:\n",
    "        cv2.putText(image,'Triangulo', (x,y-5),1,1,(0,255,0),1)\n",
    "        \n",
    "    if len(approx)==4:\n",
    "        aspect_ratio = float(w)/h\n",
    "        print('aspect_ratio= ', aspect_ratio)\n",
    "        if aspect_ratio == 1:\n",
    "            cv2.putText(image,'Cuadrado', (x,y-5),1,1,(0,255,0),1)\n",
    "            cv2.putText(image,'Perímetro '+str(perimetro),(x,y-35),font,0.3,(255,0,0),1,cv2.LINE_AA)\n",
    "            cv2.putText(image,'area '+str(area),(x,y-25),font,0.3,(255,0,0),1,cv2.LINE_AA)\n",
    "        else:\n",
    "            cv2.putText(image,'Rectangulo', (x,y-5),1,1,(0,255,0),1)\n",
    "            cv2.putText(image,'Perimetro '+str(perimetro),(x,y-35),font,0.3,(255,0,0),1,cv2.LINE_AA)\n",
    "            cv2.putText(image,'area '+str(area),(x,y-25),font,0.3,(255,0,0),1,cv2.LINE_AA)\n",
    "            \n",
    "    if len(approx)==5:\n",
    "        cv2.putText(image,'Pentagono', (x,y-5),1,1,(0,255,0),1)\n",
    "    \n",
    "    if len(approx)==6:\n",
    "        cv2.putText(image,'Hexagono', (x,y-5),1,1,(0,255,0),1)\n",
    "\n",
    "    if len(approx)>10:\n",
    "        cv2.putText(image,'Circulo', (x,y-5),1,1,(0,255,0),1)\n",
    "\n",
    "    cv2.drawContours(image, [approx], 0, (0, 224, 16),1)\n",
    "    font = cv2.FONT_HERSHEY_SIMPLEX\n",
    "    #cv2.putText(image,'TW INTERACTIVE',(10,20),font,0.5,(0,0,0),1,cv2.LINE_AA)\n",
    "    #cv2.putText(image,'Perímetro '+str(perimetro),(10,160),font,0.3,(0,0,0),1,cv2.LINE_AA)\n",
    "    #cv2.putText(image,'area '+str(area),(10,180),font,0.3,(0,0,0),1,cv2.LINE_AA)\n",
    "    cv2.imshow('canny',canny)\n",
    "    cv2.imshow('imagen',image)\n",
    "\n",
    "cv2.waitKey(0)\n",
    "cv2.destroyAllWindows()"
   ]
  },
  {
   "cell_type": "code",
   "execution_count": null,
   "id": "amateur-telescope",
   "metadata": {},
   "outputs": [],
   "source": []
  }
 ],
 "metadata": {
  "kernelspec": {
   "display_name": "Python 3",
   "language": "python",
   "name": "python3"
  },
  "language_info": {
   "codemirror_mode": {
    "name": "ipython",
    "version": 3
   },
   "file_extension": ".py",
   "mimetype": "text/x-python",
   "name": "python",
   "nbconvert_exporter": "python",
   "pygments_lexer": "ipython3",
   "version": "3.8.8"
  }
 },
 "nbformat": 4,
 "nbformat_minor": 5
}
