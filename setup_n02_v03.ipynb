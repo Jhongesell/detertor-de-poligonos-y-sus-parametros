{
 "cells": [
  {
   "cell_type": "code",
   "execution_count": 1,
   "id": "obvious-mayor",
   "metadata": {},
   "outputs": [
    {
     "name": "stdout",
     "output_type": "stream",
     "text": [
      "\u001b[0m\u001b[34;42mmodels\u001b[0m/     \u001b[01;32msetup_n01_v01.ipynb\u001b[0m*  \u001b[01;32msetup_n02_v02.ipynb\u001b[0m*  \u001b[34;42msrc\u001b[0m/\r\n",
      "\u001b[01;32mREADME.md\u001b[0m*  \u001b[01;32msetup_n02_v01.ipynb\u001b[0m*  \u001b[01;32msetup_n02_v03.ipynb\u001b[0m*\r\n"
     ]
    }
   ],
   "source": [
    "ls"
   ]
  },
  {
   "cell_type": "code",
   "execution_count": 2,
   "id": "smaller-philippines",
   "metadata": {},
   "outputs": [],
   "source": [
    "import cv2\n",
    "import numpy as np"
   ]
  },
  {
   "cell_type": "code",
   "execution_count": 3,
   "id": "surrounded-remedy",
   "metadata": {},
   "outputs": [],
   "source": [
    "cap=cv2.VideoCapture(1)\n",
    "#cap=cv2.imread('src/image_n02_v01.png')"
   ]
  },
  {
   "cell_type": "code",
   "execution_count": 4,
   "id": "shared-conversation",
   "metadata": {},
   "outputs": [],
   "source": [
    "verdeBajo=np.array([50,100,20],np.uint8)\n",
    "verdeAlto=np.array([70,255,255],np.uint8)"
   ]
  },
  {
   "cell_type": "code",
   "execution_count": 5,
   "id": "central-terror",
   "metadata": {},
   "outputs": [
    {
     "name": "stdout",
     "output_type": "stream",
     "text": [
      "El área es: 4994.5 pixeles**2.\n",
      "El área es: 3315.0 pixeles**2.\n",
      "El área es: 3169.5 pixeles**2.\n",
      "El área es: 3790.5 pixeles**2.\n",
      "El área es: 4406.0 pixeles**2.\n",
      "El área es: 3825.0 pixeles**2.\n",
      "El área es: 4511.0 pixeles**2.\n",
      "El área es: 4141.0 pixeles**2.\n",
      "El área es: 5179.0 pixeles**2.\n",
      "El área es: 5172.5 pixeles**2.\n",
      "El área es: 5120.5 pixeles**2.\n",
      "El área es: 5123.5 pixeles**2.\n",
      "El área es: 5000.5 pixeles**2.\n",
      "El área es: 3052.5 pixeles**2.\n",
      "El área es: 5064.5 pixeles**2.\n",
      "El área es: 5074.0 pixeles**2.\n",
      "El área es: 3876.0 pixeles**2.\n",
      "El área es: 5105.5 pixeles**2.\n",
      "El área es: 5100.5 pixeles**2.\n",
      "El área es: 5064.5 pixeles**2.\n",
      "El área es: 4223.0 pixeles**2.\n",
      "El área es: 5083.5 pixeles**2.\n",
      "El área es: 5093.5 pixeles**2.\n",
      "El área es: 5087.5 pixeles**2.\n",
      "El área es: 5091.0 pixeles**2.\n",
      "El área es: 5070.0 pixeles**2.\n",
      "El área es: 5054.0 pixeles**2.\n",
      "El área es: 4975.0 pixeles**2.\n",
      "El área es: 5059.0 pixeles**2.\n",
      "El área es: 5076.0 pixeles**2.\n",
      "El área es: 5056.5 pixeles**2.\n",
      "El área es: 5020.5 pixeles**2.\n",
      "El área es: 5015.5 pixeles**2.\n",
      "El área es: 4974.0 pixeles**2.\n",
      "El área es: 5003.0 pixeles**2.\n",
      "El área es: 4925.5 pixeles**2.\n",
      "El área es: 4945.0 pixeles**2.\n",
      "El área es: 4982.5 pixeles**2.\n",
      "El área es: 5005.5 pixeles**2.\n",
      "El área es: 5016.5 pixeles**2.\n",
      "El área es: 5018.5 pixeles**2.\n",
      "El área es: 4994.0 pixeles**2.\n",
      "El área es: 4997.5 pixeles**2.\n",
      "El área es: 4985.5 pixeles**2.\n",
      "El área es: 4976.0 pixeles**2.\n",
      "El área es: 4954.5 pixeles**2.\n",
      "El área es: 4954.5 pixeles**2.\n",
      "El área es: 4939.0 pixeles**2.\n",
      "El área es: 4966.0 pixeles**2.\n",
      "El área es: 4955.5 pixeles**2.\n",
      "El área es: 4917.5 pixeles**2.\n"
     ]
    }
   ],
   "source": [
    "while True:\n",
    "    ret, frame=cap.read()\n",
    "    if ret == True:\n",
    "        frameHSV=cv2.cvtColor(frame,cv2.COLOR_BGR2HSV)\n",
    "        maskGreen=cv2.inRange(frameHSV,verdeBajo,verdeAlto)\n",
    "        maskGreenvis=cv2.bitwise_and(frame,frame, mask=maskGreen)\n",
    "        contornos,_=cv2.findContours(maskGreen,cv2.RETR_EXTERNAL,cv2.CHAIN_APPROX_SIMPLE)\n",
    "        for c in contornos:\n",
    "            area=cv2.contourArea(c)\n",
    "            if area > 3000:\n",
    "                nuevoContorno=cv2.convexHull(c)\n",
    "                cv2.drawContours(frame,[nuevoContorno],0,(205,0,255),3)\n",
    "                print(\"El área es: \"+str(area)+\" pixeles**2.\")\n",
    "        cv2.imshow('maskGreen',maskGreen)\n",
    "        cv2.imshow('frame',frame)\n",
    "        cv2.imshow('maskGreenvis',maskGreenvis)\n",
    "        if cv2.waitKey(1) & 0xFF == ord('s'):\n",
    "            break\n",
    "cap.release()\n",
    "cv2.destroyAllWindows()"
   ]
  },
  {
   "cell_type": "code",
   "execution_count": null,
   "id": "visible-target",
   "metadata": {},
   "outputs": [],
   "source": []
  }
 ],
 "metadata": {
  "kernelspec": {
   "display_name": "Python 3",
   "language": "python",
   "name": "python3"
  },
  "language_info": {
   "codemirror_mode": {
    "name": "ipython",
    "version": 3
   },
   "file_extension": ".py",
   "mimetype": "text/x-python",
   "name": "python",
   "nbconvert_exporter": "python",
   "pygments_lexer": "ipython3",
   "version": "3.8.5"
  }
 },
 "nbformat": 4,
 "nbformat_minor": 5
}
