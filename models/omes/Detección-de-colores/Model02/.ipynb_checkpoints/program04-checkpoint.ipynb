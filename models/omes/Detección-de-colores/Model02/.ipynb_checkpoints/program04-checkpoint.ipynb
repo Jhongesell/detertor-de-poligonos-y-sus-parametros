{
 "cells": [
  {
   "cell_type": "code",
   "execution_count": 1,
   "id": "ee20f264",
   "metadata": {},
   "outputs": [],
   "source": [
    "import cv2\n",
    "import numpy as np\n",
    "\n",
    "cap=cv2.VideoCapture(1)\n",
    "\n",
    "azulBajo = np.array([100,100,20],np.uint8)\n",
    "azulAlto = np.array([125,255,255],np.uint8)\n",
    "while True:\n",
    "\n",
    "    ret,frame=cap.read()\n",
    "\n",
    "    if ret==True:\n",
    "        frameHSV = cv2.cvtColor(frame,cv2.COLOR_BGR2HSV)\n",
    "        mask = cv2.inRange(frameHSV,azulBajo,azulAlto)\n",
    "        contornos,_=cv2.findContours(mask,cv2.RETR_EXTERNAL,cv2.CHAIN_APPROX_SIMPLE)\n",
    "        #cv2.drawContours(frame,contornos,-1,(255,0,0),3)\n",
    "        for c in contornos:\n",
    "            area=cv2.contourArea(c)\n",
    "            if area > 3000:\n",
    "                nuevoContorno=cv2.convexHull(c)\n",
    "                cv2.drawContours(frame,[nuevoContorno],0,(255,0,0),3)\n",
    "\n",
    "        #cv2.imshow('maskAzul',mask)\n",
    "        cv2.imshow('frame',frame)\n",
    "        if cv2.waitKey(1) & 0xFF == ord('s'):\n",
    "            break\n",
    "cap.release()\n",
    "cv2.destroyAllWindows()"
   ]
  },
  {
   "cell_type": "code",
   "execution_count": null,
   "id": "8ae9e9e6",
   "metadata": {},
   "outputs": [],
   "source": []
  }
 ],
 "metadata": {
  "kernelspec": {
   "display_name": "Python 3",
   "language": "python",
   "name": "python3"
  },
  "language_info": {
   "codemirror_mode": {
    "name": "ipython",
    "version": 3
   },
   "file_extension": ".py",
   "mimetype": "text/x-python",
   "name": "python",
   "nbconvert_exporter": "python",
   "pygments_lexer": "ipython3",
   "version": "3.8.8"
  }
 },
 "nbformat": 4,
 "nbformat_minor": 5
}
