{
 "cells": [
  {
   "cell_type": "code",
   "execution_count": 1,
   "id": "3e3aa973",
   "metadata": {},
   "outputs": [],
   "source": [
    "import cv2\n",
    "import numpy as np\n",
    "\n",
    "cap=cv2.VideoCapture(1)\n",
    "\n",
    "azulBajo = np.array([100,100,20],np.uint8)\n",
    "azulAlto = np.array([125,255,255],np.uint8)\n",
    "while True:\n",
    "\n",
    "    ret,frame=cap.read()\n",
    "\n",
    "    if ret==True:\n",
    "        frameHSV = cv2.cvtColor(frame,cv2.COLOR_BGR2HSV)\n",
    "        mask = cv2.inRange(frameHSV,azulBajo,azulAlto)\n",
    "        contornos,_=cv2.findContours(mask,cv2.RETR_EXTERNAL,cv2.CHAIN_APPROX_SIMPLE)\n",
    "        #cv2.drawContours(frame,contornos,-1,(255,0,0),3)\n",
    "        for c in contornos:\n",
    "            area=cv2.contourArea(c)\n",
    "            if area > 3000:\n",
    "                M=cv2.moments(c)\n",
    "                if (M[\"m00\"]==0): M[\"m00\"]=1\n",
    "                x=int(M[\"m10\"]/M[\"m00\"])\n",
    "                y=int(M['m01']/M['m00'])\n",
    "                cv2.circle(frame,(x,y),7,(0,255,0),-1)\n",
    "                font=cv2.FONT_HERSHEY_SIMPLEX\n",
    "                cv2.putText(frame,'{},{}'.format(x,y),(x+10,y),font, 0.75,(0,255,0),1,cv2.LINE_AA)\n",
    "                \n",
    "\n",
    "                \n",
    "                nuevoContorno=cv2.convexHull(c)\n",
    "                cv2.drawContours(frame,[nuevoContorno],0,(255,0,0),3)\n",
    "\n",
    "        #cv2.imshow('maskAzul',mask)\n",
    "        cv2.imshow('frame',frame)\n",
    "        if cv2.waitKey(1) & 0xFF == ord('s'):\n",
    "            break\n",
    "cap.release()\n",
    "cv2.destroyAllWindows()"
   ]
  },
  {
   "cell_type": "code",
   "execution_count": null,
   "id": "5e2f154e",
   "metadata": {},
   "outputs": [],
   "source": []
  }
 ],
 "metadata": {
  "kernelspec": {
   "display_name": "Python 3",
   "language": "python",
   "name": "python3"
  },
  "language_info": {
   "codemirror_mode": {
    "name": "ipython",
    "version": 3
   },
   "file_extension": ".py",
   "mimetype": "text/x-python",
   "name": "python",
   "nbconvert_exporter": "python",
   "pygments_lexer": "ipython3",
   "version": "3.8.8"
  }
 },
 "nbformat": 4,
 "nbformat_minor": 5
}
