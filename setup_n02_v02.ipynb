{
 "cells": [
  {
   "cell_type": "code",
   "execution_count": 6,
   "id": "linear-disclosure",
   "metadata": {},
   "outputs": [
    {
     "name": "stdout",
     "output_type": "stream",
     "text": [
      "\u001b[0m\u001b[34;42mmodels\u001b[0m/     \u001b[01;32msetup_n01_v01.ipynb\u001b[0m*  \u001b[01;32msetup_n02_v02.ipynb\u001b[0m*\r\n",
      "\u001b[01;32mREADME.md\u001b[0m*  \u001b[01;32msetup_n02_v01.ipynb\u001b[0m*  \u001b[34;42msrc\u001b[0m/\r\n"
     ]
    }
   ],
   "source": [
    "ls"
   ]
  },
  {
   "cell_type": "code",
   "execution_count": 2,
   "id": "traditional-medication",
   "metadata": {},
   "outputs": [],
   "source": [
    "import cv2\n",
    "import numpy as np"
   ]
  },
  {
   "cell_type": "code",
   "execution_count": 10,
   "id": "false-financing",
   "metadata": {},
   "outputs": [],
   "source": [
    "cap=cv2.VideoCapture(1)\n",
    "#cap=cv2.imread('src/image_n02_v01.png')"
   ]
  },
  {
   "cell_type": "code",
   "execution_count": 11,
   "id": "completed-banana",
   "metadata": {},
   "outputs": [],
   "source": [
    "verdeBajo=np.array([50,100,20],np.uint8)\n",
    "verdeAlto=np.array([70,255,255],np.uint8)"
   ]
  },
  {
   "cell_type": "code",
   "execution_count": 12,
   "id": "forbidden-orchestra",
   "metadata": {},
   "outputs": [
    {
     "name": "stdout",
     "output_type": "stream",
     "text": [
      "El área es: 3131.0 pixeles**2.\n",
      "El área es: 5814.0 pixeles**2.\n",
      "El área es: 3122.5 pixeles**2.\n",
      "El área es: 5356.0 pixeles**2.\n",
      "El área es: 5458.5 pixeles**2.\n"
     ]
    }
   ],
   "source": [
    "while True:\n",
    "    ret, frame=cap.read()\n",
    "    if ret == True:\n",
    "        frameHSV=cv2.cvtColor(frame,cv2.COLOR_BGR2HSV)\n",
    "        maskGreen=cv2.inRange(frameHSV,verdeBajo,verdeAlto)\n",
    "        maskGreenvis=cv2.bitwise_and(frame,frame, mask=maskGreen)\n",
    "        contornos,_=cv2.findContours(maskGreen,cv2.RETR_EXTERNAL,cv2.CHAIN_APPROX_SIMPLE)\n",
    "        for c in contornos:\n",
    "            area=cv2.contourArea(c)\n",
    "            if area > 3000:\n",
    "                cv2.drawContours(frame,[c],0,(205,0,255),3)\n",
    "                print(\"El área es: \"+str(area)+\" pixeles**2.\")\n",
    "        cv2.imshow('maskGreen',maskGreen)\n",
    "        cv2.imshow('frame',frame)\n",
    "        cv2.imshow('maskGreenvis',maskGreenvis)\n",
    "        if cv2.waitKey(1) & 0xFF == ord('s'):\n",
    "            break\n",
    "cap.release()\n",
    "cv2.destroyAllWindows()"
   ]
  },
  {
   "cell_type": "code",
   "execution_count": null,
   "id": "sophisticated-basketball",
   "metadata": {},
   "outputs": [],
   "source": []
  }
 ],
 "metadata": {
  "kernelspec": {
   "display_name": "Python 3",
   "language": "python",
   "name": "python3"
  },
  "language_info": {
   "codemirror_mode": {
    "name": "ipython",
    "version": 3
   },
   "file_extension": ".py",
   "mimetype": "text/x-python",
   "name": "python",
   "nbconvert_exporter": "python",
   "pygments_lexer": "ipython3",
   "version": "3.8.5"
  }
 },
 "nbformat": 4,
 "nbformat_minor": 5
}
